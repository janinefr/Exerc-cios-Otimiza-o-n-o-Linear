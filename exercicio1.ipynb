{
 "cells": [
  {
   "cell_type": "code",
   "execution_count": null,
   "metadata": {},
   "outputs": [],
   "source": [
    "from numpy import array, linspace\n",
    "import matplotlib.pyplot as plt\n",
    "import math\n",
    "import sympy as sym\n",
    "from numpy import *\n",
    "\n",
    "\n",
    "#funçao objetivo de n variaveis\n",
    "\n",
    "# f1 : R -> R\n",
    "# f1(x)=x*x\n",
    "def func(x):\n",
    "    return 3*x**2 -16*x+15\n",
    "\n",
    "# f2 : R^3 -> R\n",
    "# f2(x1,x2,x3)=x1*x2+x3\n",
    "def func2(x):\n",
    "    return x[0]*x[1]+x[2]\n",
    "\n",
    "#grafico da funcao\n",
    "nPontos = 1000\n",
    "x1 = (8+sqrt(19))/3\n",
    "x2 = (8-sqrt(19))/3\n",
    "x = linspace(x1,x2,1000) #gera um x q eh um vetor de 100 entradas, começa do -3 ao 4 e divide em 100 pates iguais\n",
    "y = func(x)\n",
    "\n",
    "valorMax = 10000\n",
    "\n",
    "for i in range(nPontos):\n",
    "    if func(x[i])<valorMax: #troca o sinal para maximizar\n",
    "        xEstrela = x[i] #componentes de x\n",
    "        valorMax = func(x[i])\n",
    "    \n",
    "plt.plot(x,y,'r')\n",
    "plt.title(\"grafico de func\")\n",
    "\n",
    "plt.plot(xEstrela,0,'xr')\n",
    "plt.grid()\n",
    "print('A solução do problema de minimizar f1 em [a,b] é:',xEstrela)"
   ]
  }
 ],
 "metadata": {
  "language_info": {
   "name": "python"
  },
  "orig_nbformat": 4
 },
 "nbformat": 4,
 "nbformat_minor": 2
}
