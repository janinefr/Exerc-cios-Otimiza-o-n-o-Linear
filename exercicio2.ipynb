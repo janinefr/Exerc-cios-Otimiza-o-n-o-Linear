{
 "cells": [
  {
   "cell_type": "code",
   "execution_count": null,
   "metadata": {},
   "outputs": [],
   "source": [
    "from numpy import array, linspace\n",
    "import matplotlib.pyplot as plt\n",
    "import math\n",
    "import sympy as sym\n",
    "from numpy import *\n",
    "import sympy\n",
    "\n",
    "#definindo as variaveis\n",
    "\n",
    "\n",
    "x1 = sympy.Symbol(\"x1\")\n",
    "x2 = sympy.Symbol(\"x2\")\n",
    "x3 = sympy.Symbol(\"x3\")\n",
    "f = (2*x1 - x2)**2 + (x2 - x3)**2 + (x3 -1)**2\n",
    "\n",
    "#calcular o gradiente de f (derivar com relaçao a x1 e x2)\n",
    "\n",
    "dfx1 = sympy.diff(f, x1)\n",
    "dfx2 = sympy.diff(f, x2)\n",
    "dfx3 = sympy.diff(f, x3)\n",
    "grad_f = ([dfx1, dfx2, dfx3])\n",
    "print(grad_f)\n",
    "\n",
    "#calculo da hessiana (derivar parcialmente na matriz)\n",
    "d2fdx1dx1 = sympy.diff(dfx1, x1)\n",
    "d2fdx1dx2 = sympy.diff(dfx1, x2)\n",
    "d2fdx1dx3 = sympy.diff(dfx1, x3)\n",
    "\n",
    "d2fdx2dx1 = sympy.diff(dfx2, x1)\n",
    "d2fdx2dx2 = sympy.diff(dfx2, x2)\n",
    "d2fdx2dx3 = sympy.diff(dfx2, x3)\n",
    "\n",
    "d2fdx3dx1 = sympy.diff(dfx3, x1)\n",
    "d2fdx3dx2 = sympy.diff(dfx3, x2)\n",
    "d2fdx3dx3 = sympy.diff(dfx3, x3)\n",
    "\n",
    "\n",
    "hessf = array([[d2fdx1dx1, d2fdx1dx2, d2fdx1dx3 ],\n",
    "               [d2fdx2dx1, d2fdx2dx2, d2fdx2dx3 ], [d2fdx3dx1, d2fdx3dx2, d2fdx3dx3 ]])\n",
    "hessf"
   ]
  }
 ],
 "metadata": {
  "language_info": {
   "name": "python"
  },
  "orig_nbformat": 4
 },
 "nbformat": 4,
 "nbformat_minor": 2
}
