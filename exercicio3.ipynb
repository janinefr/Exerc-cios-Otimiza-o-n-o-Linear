{
 "cells": [
  {
   "cell_type": "code",
   "execution_count": null,
   "metadata": {},
   "outputs": [],
   "source": [
    "from numpy import array, linspace\n",
    "import matplotlib.pyplot as plt\n",
    "import math\n",
    "import sympy as sym\n",
    "from numpy import *\n",
    "import sympy\n",
    "import numpy as np\n",
    "\n",
    "#definindo as variaveis\n",
    "\n",
    "\n",
    "#ENCONTRANDO GRADIENTE DE F\n",
    "x1,x2 = sym.symbols(\"x1,x2\")\n",
    "x = np.array([[x1,x2]]) #vetor\n",
    "\n",
    "grad1, grad2 = sym.symbols('grad1 grad2')\n",
    "gradf = sym.Matrix([[grad1,grad2]]) #vetor\n",
    "f= x1**2 + 2*x2**2 -4*x1 + 7 #funcao\n",
    "\n",
    "gradf[0] = f.diff(x1) #primeira entrada do gradiente\n",
    "gradf[1] = f.diff(x2) #segunda entrada do gradiente\n",
    "print(\"O gradiente de f em x é: \\n%s\\n\" % gradf)\n",
    "\n",
    "#ENCONTRANDO A HESSIANA\n",
    "hess11, hess12,hess21, hess22 = sym.symbols('hess11 hess12 hess21 hess22')\n",
    "hessf = np.array([[hess11,hess12],\n",
    "                    [hess21,hess22]])\n",
    "\n",
    "hessf[0,0] = gradf[0].diff(x1) #f.diff(x1,x1) primeiro linha primeira coluna\n",
    "hessf[0,1] = gradf[0].diff(x2) #f.diff(x1,x2) primeira linha segunda coluna\n",
    "hessf[1,0] = gradf[1].diff(x1) #f.diff(x1,x1) segunda linha primeira coluna\n",
    "hessf[1,1] = gradf[1].diff(x2) #f.diff(x1,x1) segunda linha segunda coluna\n",
    "print(\"A hessiana de f em x é: \\n%s\\n\" % hessf)\n",
    "\n",
    "c = [2, -4]\n",
    "d = [4,0]\n",
    "\n",
    "print(\"Os pontos onde o gradiente de f se anula são: \", np.roots(c), np.roots(d)) #calcula raizes\n",
    "\n",
    "hessiana = np.array([[2,0],[0,4]])\n",
    "det_hessiana = np.linalg.det(hessiana)\n",
    "print('O determinante da matriz %s é: %.2f' %(hessiana, det_hessiana))\n",
    "\n",
    "if (det_hessiana>0):\n",
    "    print(\"\\n[%d,%d] é mínimo local estrito\"% (np.roots(c), np.roots(d)))\n",
    "    \n",
    "else:\n",
    "    print(\"\\n[%d,%d] é mínimo local estrito\"% (np.roots(c), np.roots(d)))"
   ]
  }
 ],
 "metadata": {
  "language_info": {
   "name": "python"
  },
  "orig_nbformat": 4
 },
 "nbformat": 4,
 "nbformat_minor": 2
}
